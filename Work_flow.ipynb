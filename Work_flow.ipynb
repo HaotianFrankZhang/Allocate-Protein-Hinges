{
 "cells": [
  {
   "cell_type": "markdown",
   "id": "45962f85",
   "metadata": {},
   "source": [
    "# Packages"
   ]
  },
  {
   "cell_type": "code",
   "execution_count": 1,
   "id": "d7df4164",
   "metadata": {},
   "outputs": [],
   "source": [
    "from numpy import *\n",
    "from prody import *\n",
    "from matplotlib.pyplot import *\n",
    "from scipy.stats import hypergeom\n",
    "import os"
   ]
  },
  {
   "cell_type": "code",
   "execution_count": 2,
   "id": "20661587",
   "metadata": {},
   "outputs": [],
   "source": [
    "from GNMhinges import *"
   ]
  },
  {
   "cell_type": "markdown",
   "id": "8132af96",
   "metadata": {},
   "source": [
    "# Build ensembles"
   ]
  },
  {
   "cell_type": "code",
   "execution_count": 3,
   "id": "215ff200",
   "metadata": {},
   "outputs": [
    {
     "name": "stderr",
     "output_type": "stream",
     "text": [
      "@> Submitted Dali search for PDB \"3d4sA\".\n",
      "@> http://ekhidna2.biocenter.helsinki.fi/barcosel/tmp//3d4sA/\n",
      "@> Dali results were fetched in 0.2s.   \n",
      "@> Obtained 2440 PDB chains from Dali for 3d4sA.\n",
      "@> 2426 PDBs have been filtered out from 2440 Dali hits (remaining: 14).\n",
      "@> Retrieving 3d4sA... [  0%]"
     ]
    },
    {
     "name": "stdout",
     "output_type": "stream",
     "text": [
      "RMSD less than  2.0 0.8198979 0.35715997\n",
      "RMSD greater than 1A  4.0229917 2.8395913\n",
      "# of similar structures is found from Dali 14\n"
     ]
    },
    {
     "name": "stderr",
     "output_type": "stream",
     "text": [
      "@> Retrieving 5x7dA... [ 21%] 7s @> WARNING SEQADV for chain A: database sequence reference not found (5X7D:381)\n",
      "@> WARNING SEQADV for chain A: database sequence reference not found (5X7D:382)\n",
      "@> Retrieving 6obaA... [ 64%] 2s@> WARNING SEQADV for chain A: database sequence reference not found (6OBA:394)\n",
      "@> WARNING SEQADV for chain A: database sequence reference not found (6OBA:395)\n",
      "@> 14 PDBs were parsed in 4.42s.\n",
      "@> Starting iterative superposition:             \n",
      "@> Step #1: RMSD difference = 3.1909e-01\n",
      "@> Step #2: RMSD difference = 1.5312e-05\n",
      "@> Iterative superposition completed in 0.01s.\n",
      "@> Final superposition to calculate transformations.\n",
      "@> Superposition completed in 0.00 seconds.\n",
      "@> Ensemble (14 conformations) were built in 0.45s.\n",
      "@> all GNM modes were calculated for each of the 14 conformations in 1.18s.\n",
      "@> 438 modes across 14 modesets were matched in 0.33s.\n"
     ]
    }
   ],
   "source": [
    "currPDB = '3d4s' # change it to your interesting structure with PDB IDs\n",
    "eachChain = 'A'\n",
    "\n",
    "# pdb_ids, mappings = getDali_info(currPDB, eachChain, cutoff_len=0.7, cutoff_rmsd=1.0, cutoff_Z=10)\n",
    "EigVals_similar, averageEigVects_similar, ids_similar, gnms_similar = getModesSimilar(currPDB, eachChain, length=0.8, rmsd=2, Z=10)"
   ]
  },
  {
   "cell_type": "markdown",
   "id": "16938741",
   "metadata": {},
   "source": [
    "# Define reference structure"
   ]
  },
  {
   "cell_type": "code",
   "execution_count": 4,
   "id": "2d9fa0f8",
   "metadata": {},
   "outputs": [
    {
     "name": "stderr",
     "output_type": "stream",
     "text": [
      "@> Connecting wwPDB FTP server RCSB PDB (USA).\n",
      "@> 3d4s downloaded (3d4s.pdb.gz)\n",
      "@> PDB download via FTP completed (1 downloaded, 0 failed).\n",
      "@> 439 atoms and 1 coordinate set(s) were parsed in 0.03s.\n",
      "@> Secondary structures were assigned to 375 residues.\n"
     ]
    }
   ],
   "source": [
    "GPCR = parsePDB('3d4s', subset='calpha') \n",
    "calphas = GPCR.select('ca resnum 1:343') # not whole protein but only 7-transmemebrane domain"
   ]
  },
  {
   "cell_type": "markdown",
   "id": "a52fc1ac",
   "metadata": {},
   "source": [
    "# GNM motions"
   ]
  },
  {
   "cell_type": "code",
   "execution_count": 5,
   "id": "4c2911b4",
   "metadata": {},
   "outputs": [
    {
     "name": "stderr",
     "output_type": "stream",
     "text": [
      "@> Retrieving 5x7dA... [ 21%] 3s@> WARNING SEQADV for chain A: database sequence reference not found (5X7D:381)\n",
      "@> WARNING SEQADV for chain A: database sequence reference not found (5X7D:382)\n",
      "@> Retrieving 6obaA... [ 64%] 2s@> WARNING SEQADV for chain A: database sequence reference not found (6OBA:394)\n",
      "@> WARNING SEQADV for chain A: database sequence reference not found (6OBA:395)\n",
      "@> 14 PDBs were parsed in 3.56s.\n",
      "@> Starting iterative superposition:             \n",
      "@> Step #1: RMSD difference = 2.4047e-01\n",
      "@> Step #2: RMSD difference = 5.1293e-06\n",
      "@> Iterative superposition completed in 0.01s.\n",
      "@> Final superposition to calculate transformations.\n",
      "@> Superposition completed in 0.00 seconds.\n",
      "@> Ensemble (14 conformations) were built in 0.42s.\n",
      "@> all GNM modes were calculated for each of the 14 conformations in 0.70s.\n",
      "@> 278 modes across 14 modesets were matched in 0.21s.\n"
     ]
    }
   ],
   "source": [
    "ags = parsePDB(ids_similar, subset='ca')\n",
    "# ags = parsePDB(mergeIDs, subset='ca', chain=Chains) # if you have dimer\n",
    "dali_ens = buildPDBEnsemble(ags, ref=calphas) \n",
    "# dali_ens = buildPDBEnsemble(ags) # if we just used first element of the structure\n",
    "gnms = calcEnsembleENMs(dali_ens, model='GNM', trim='reduce', n_modes=None)\n",
    "eigVals = gnms.getEigvals()\n",
    "averageEigVals = gnms.getEigvals()[0]\n",
    "eigVects = gnms.getEigvecs()\n",
    "averageEigVecs = mean(eigVects, axis=0)"
   ]
  },
  {
   "cell_type": "markdown",
   "id": "30eaa0da",
   "metadata": {},
   "source": [
    "# 33% contribution"
   ]
  },
  {
   "cell_type": "code",
   "execution_count": 6,
   "id": "878edda9",
   "metadata": {},
   "outputs": [
    {
     "data": {
      "text/plain": [
       "3"
      ]
     },
     "execution_count": 6,
     "metadata": {},
     "output_type": "execute_result"
    }
   ],
   "source": [
    "currNumModes = getModesGivenThreshold(averageEigVals, 0.33)\n",
    "currNumModes"
   ]
  },
  {
   "cell_type": "markdown",
   "id": "9fc914cc",
   "metadata": {},
   "source": [
    "# Allocate hinges and define binding sites"
   ]
  },
  {
   "cell_type": "code",
   "execution_count": 12,
   "id": "97ec7b54",
   "metadata": {},
   "outputs": [],
   "source": [
    "bindings = [27,38,41,42,45,48,49,52,53,76,77,78,80,81,82,83,85,86,119,122,123,126,134,161,163,167,168,171,172,175,222,225,226,229,244,248,252]\n",
    "binding = list(set([int(x) for x in bindings]))"
   ]
  },
  {
   "cell_type": "code",
   "execution_count": 13,
   "id": "90b71475",
   "metadata": {},
   "outputs": [],
   "source": [
    "Hinges_3modes = getHinges2(averageEigVecs, 3, 15) # using 3 modes\n",
    "Hinges_3modes_final = trimEnds(Hinges_3modes, [[0, 278]], 20) # trim ends"
   ]
  },
  {
   "cell_type": "markdown",
   "id": "aecbce84",
   "metadata": {},
   "source": [
    "# p values"
   ]
  },
  {
   "cell_type": "code",
   "execution_count": 14,
   "id": "9892700e",
   "metadata": {},
   "outputs": [
    {
     "name": "stdout",
     "output_type": "stream",
     "text": [
      "# of binding sites is 37\n",
      "# of hinge sites for threshold 0.33, overlap, hyper score 33 11 0.001225404684947029\n"
     ]
    }
   ],
   "source": [
    "protein_length = 279\n",
    "\n",
    "overlaps_2 = len(binding) + len(Hinges_3modes_final) - len(set(binding + Hinges_3modes_final))\n",
    "HyperScore_2 = ORA(len(binding), protein_length, len(Hinges_3modes_final), overlaps_2)\n",
    "\n",
    "print ('# of binding sites is', len(binding))\n",
    "print ('# of hinge sites for threshold 0.33, overlap, hyper score', len(Hinges_3modes_final), overlaps_2, HyperScore_2)"
   ]
  },
  {
   "cell_type": "code",
   "execution_count": null,
   "id": "a2571919",
   "metadata": {},
   "outputs": [],
   "source": []
  }
 ],
 "metadata": {
  "kernelspec": {
   "display_name": "Python 3 (ipykernel)",
   "language": "python",
   "name": "python3"
  },
  "language_info": {
   "codemirror_mode": {
    "name": "ipython",
    "version": 3
   },
   "file_extension": ".py",
   "mimetype": "text/x-python",
   "name": "python",
   "nbconvert_exporter": "python",
   "pygments_lexer": "ipython3",
   "version": "3.11.7"
  }
 },
 "nbformat": 4,
 "nbformat_minor": 5
}
